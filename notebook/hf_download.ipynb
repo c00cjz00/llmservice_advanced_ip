{
 "cells": [
  {
   "cell_type": "code",
   "execution_count": null,
   "id": "0f60a25e",
   "metadata": {},
   "outputs": [],
   "source": [
    "from huggingface_hub import snapshot_download\n",
    "\n",
    "model_id = \"INX-TEXT/Bailong-instruct-7B\" # hugginFace's model name\n",
    "snapshot_download(\n",
    "    repo_id=model_id, \n",
    "    local_dir=\"INX-TEXT_Bailong-instruct-7B\",\n",
    "    local_dir_use_symlinks=False,\n",
    "    revision=\"main\",\n",
    "    use_auth_token=\"<YOUR_HF_ACCESS_TOKEN>\")"
   ]
  }
 ],
 "metadata": {
  "kernelspec": {
   "display_name": "Python 3 (ipykernel)",
   "language": "python",
   "name": "python3"
  },
  "language_info": {
   "codemirror_mode": {
    "name": "ipython",
    "version": 3
   },
   "file_extension": ".py",
   "mimetype": "text/x-python",
   "name": "python",
   "nbconvert_exporter": "python",
   "pygments_lexer": "ipython3",
   "version": "3.10.12"
  }
 },
 "nbformat": 4,
 "nbformat_minor": 5
}
